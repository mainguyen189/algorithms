{
  "nbformat": 4,
  "nbformat_minor": 0,
  "metadata": {
    "colab": {
      "provenance": [],
      "authorship_tag": "ABX9TyMv7b/7tMjkV0XicAQxI8bU",
      "include_colab_link": true
    },
    "kernelspec": {
      "name": "python3",
      "display_name": "Python 3"
    },
    "language_info": {
      "name": "python"
    }
  },
  "cells": [
    {
      "cell_type": "markdown",
      "metadata": {
        "id": "view-in-github",
        "colab_type": "text"
      },
      "source": [
        "<a href=\"https://colab.research.google.com/github/mion158/algorithms/blob/main/karatsuba.ipynb\" target=\"_parent\"><img src=\"https://colab.research.google.com/assets/colab-badge.svg\" alt=\"Open In Colab\"/></a>"
      ]
    },
    {
      "cell_type": "code",
      "execution_count": 10,
      "metadata": {
        "id": "sJYv_x4Kc8Tu"
      },
      "outputs": [],
      "source": [
        "def karatsuba(x,y):\n",
        "  # convert to string to calculate length\n",
        "  x_str = str(x)\n",
        "  y_str = str(y)\n",
        "\n",
        "  #find max digits\n",
        "  n = max(len(x_str), len(y_str))\n",
        "  #base case:\n",
        "  if n == 1:\n",
        "    return x*y\n",
        "\n",
        "  #split in the middle\n",
        "  sp = n//2\n",
        "\n",
        "  a, b = divmod(x, 10**sp)\n",
        "  c, d = divmod(y, 10**sp)\n",
        "\n",
        "  # Recursive steps\n",
        "  ac = karatsuba(a, c)\n",
        "  bd = karatsuba(b, d)\n",
        "  ad_bc = karatsuba(a + b, c + d) - ac - bd\n",
        "\n",
        "  #Karatsuba formula\n",
        "  return ac * 10**(2*sp) + ad_bc * 10**sp + bd\n"
      ]
    },
    {
      "cell_type": "code",
      "source": [
        "# test\n",
        "x=3141592653589793238462643383279502884197169399375105820974944592\n",
        "y=2718281828459045235360287471352662497757247093699959574966967627\n",
        "\n",
        "karatsuba(x,y)"
      ],
      "metadata": {
        "colab": {
          "base_uri": "https://localhost:8080/"
        },
        "id": "npQv09zFemU_",
        "outputId": "a2045ea6-7b50-4dce-b558-1ee43deb1379"
      },
      "execution_count": 11,
      "outputs": [
        {
          "output_type": "execute_result",
          "data": {
            "text/plain": [
              "8539734222673567065463550869546574495034888535765114961879601127067743044893204848617875072216249073013374895871952806582723184"
            ]
          },
          "metadata": {},
          "execution_count": 11
        }
      ]
    }
  ]
}