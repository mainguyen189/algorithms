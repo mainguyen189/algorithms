{
  "nbformat": 4,
  "nbformat_minor": 0,
  "metadata": {
    "colab": {
      "provenance": [],
      "authorship_tag": "ABX9TyOwG29sV7iOzXb7+wcZO6RF",
      "include_colab_link": true
    },
    "kernelspec": {
      "name": "python3",
      "display_name": "Python 3"
    },
    "language_info": {
      "name": "python"
    }
  },
  "cells": [
    {
      "cell_type": "markdown",
      "metadata": {
        "id": "view-in-github",
        "colab_type": "text"
      },
      "source": [
        "<a href=\"https://colab.research.google.com/github/mion158/algorithms/blob/main/inversions.ipynb\" target=\"_parent\"><img src=\"https://colab.research.google.com/assets/colab-badge.svg\" alt=\"Open In Colab\"/></a>"
      ]
    },
    {
      "cell_type": "code",
      "source": [
        "def merge_and_count_inversions(left, right):\n",
        "    merged = []\n",
        "    i = j = split_inversions = 0\n",
        "\n",
        "    # if value left is > value right then inversion\n",
        "    while i < len(left) and j < len(right):\n",
        "        if left[i] <= right[j]:\n",
        "            merged.append(left[i])\n",
        "            i += 1\n",
        "        else:\n",
        "            merged.append(right[j])\n",
        "            j += 1\n",
        "            split_inversions += len(left) - i\n",
        "    # after merge: extend the merged array with the remaining elements in left and right\n",
        "    merged.extend(left[i:])\n",
        "    merged.extend(right[j:])\n",
        "    return merged, split_inversions\n",
        "\n",
        "\n",
        "def count_inversions(arr):\n",
        "  #base case return 1 element array and 0 inversions\n",
        "  if len(arr) == 1:\n",
        "    return arr, 0\n",
        "\n",
        "  # split at mid point\n",
        "  midpoint = len(arr)//2\n",
        "\n",
        "  # recursively count inversions in left half - right half\n",
        "  left_half, inversions_left = count_inversions(arr[:midpoint])\n",
        "  right_half, inversions_right = count_inversions(arr[midpoint:])\n",
        "\n",
        "  #do the inversions and count split inversions\n",
        "  merged_array, split_inversions = merge_and_count_inversions(left_half, right_half)\n",
        "\n",
        "  # total inversions:\n",
        "  total_inversions = inversions_left + inversions_right + split_inversions\n",
        "  return merged_array, total_inversions\n",
        "\n",
        "with open('IntegerArray.txt', 'r') as file:\n",
        "    data = [int(line.strip()) for line in file]\n",
        "\n",
        "_, inversions = count_inversions(data)\n",
        "print(inversions)\n"
      ],
      "metadata": {
        "colab": {
          "base_uri": "https://localhost:8080/"
        },
        "id": "mdSMznUhLet7",
        "outputId": "375cfc19-8748-431a-eaba-be62a2d5892d"
      },
      "execution_count": 16,
      "outputs": [
        {
          "output_type": "stream",
          "name": "stdout",
          "text": [
            "2407905288\n"
          ]
        }
      ]
    }
  ]
}