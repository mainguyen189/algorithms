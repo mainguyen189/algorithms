{
  "nbformat": 4,
  "nbformat_minor": 0,
  "metadata": {
    "colab": {
      "provenance": [],
      "authorship_tag": "ABX9TyPHoxUNUxoyv5NOrbgl93kD",
      "include_colab_link": true
    },
    "kernelspec": {
      "name": "python3",
      "display_name": "Python 3"
    },
    "language_info": {
      "name": "python"
    }
  },
  "cells": [
    {
      "cell_type": "markdown",
      "metadata": {
        "id": "view-in-github",
        "colab_type": "text"
      },
      "source": [
        "<a href=\"https://colab.research.google.com/github/mion158/algorithms/blob/main/quicksort.ipynb\" target=\"_parent\"><img src=\"https://colab.research.google.com/assets/colab-badge.svg\" alt=\"Open In Colab\"/></a>"
      ]
    },
    {
      "cell_type": "code",
      "execution_count": null,
      "metadata": {
        "colab": {
          "base_uri": "https://localhost:8080/"
        },
        "id": "kPEuWqRWzpjW",
        "outputId": "325ad1ff-ed3a-4ac1-d7d7-ae17bf07e2ee"
      },
      "outputs": [
        {
          "output_type": "stream",
          "name": "stdout",
          "text": [
            "Number of comparisons for first pivot method: 162085\n",
            "Number of comparisons for last pivot method: 164123\n",
            "Number of comparisons for median_of_three pivot method: 138382\n"
          ]
        }
      ],
      "source": [
        "def quicksort(arr, pivot_method):\n",
        "# Choose the first / last / median-of-three element as pivot\n",
        "    if len(arr) <= 1:\n",
        "        return arr, 0\n",
        "\n",
        "    comparisons = len(arr) - 1\n",
        "    if pivot_method == 'first':\n",
        "        pivot = arr[0]\n",
        "    elif pivot_method == 'last':\n",
        "        pivot = arr[-1]\n",
        "        arr[-1], arr[0] = arr[0], arr[-1]\n",
        "    elif pivot_method == 'median_of_three':\n",
        "        first = arr[0]\n",
        "        last = arr[-1]\n",
        "        middle_idx = (len(arr) - 1) // 2\n",
        "        middle = arr[middle_idx]\n",
        "\n",
        "        pivot_temp = [(first, 0), (middle, middle_idx), (last, len(arr) - 1)]\n",
        "        pivot_temp.sort()\n",
        "        pivot = pivot_temp[1][0]\n",
        "        pivot_idx = pivot_temp[1][1]\n",
        "\n",
        "        arr[pivot_idx], arr[0] = arr[0], arr[pivot_idx]\n",
        "\n",
        "\n",
        "    i = 1\n",
        "    for j in range(1, len(arr)):\n",
        "        if arr[j] < pivot:\n",
        "            arr[i], arr[j] = arr[j], arr[i]\n",
        "            i += 1\n",
        "# Where pivot finally occupies\n",
        "    arr[0], arr[i - 1] = arr[i - 1], arr[0]\n",
        "\n",
        "\n",
        "    left, left_comparisons = quicksort(arr[:i-1], pivot_method)\n",
        "    right, right_comparisons = quicksort(arr[i:], pivot_method)\n",
        "\n",
        "    return (left + [pivot] + right), (comparisons + left_comparisons + right_comparisons)\n",
        "\n",
        "with open('file.txt', 'r') as file:\n",
        "    input_array = [int(line.strip()) for line in file]\n",
        "\n",
        "pivot_methods = ['first', 'last', 'median_of_three']\n",
        "results = {}\n",
        "\n",
        "for method in pivot_methods:\n",
        "    sorted_array, comparisons = quicksort(input_array.copy(), method)\n",
        "    results[method] = comparisons\n",
        "\n",
        "for pivot_method, comparisons in results.items():\n",
        "    print(f'Number of comparisons for {pivot_method} pivot method: {comparisons}')\n"
      ]
    },
    {
      "cell_type": "markdown",
      "source": [
        "# New section"
      ],
      "metadata": {
        "id": "d_5BPCWN0mRw"
      }
    }
  ]
}